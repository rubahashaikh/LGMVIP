{
 "cells": [
  {
   "cell_type": "markdown",
   "id": "5a6f1716",
   "metadata": {},
   "source": [
    "# LETS GROW MORE (LGM)"
   ]
  },
  {
   "cell_type": "markdown",
   "id": "97a00781",
   "metadata": {},
   "source": [
    "# TASK 1 (BEGINNER LEVEL TASK)"
   ]
  },
  {
   "cell_type": "markdown",
   "id": "c80431d6",
   "metadata": {},
   "source": [
    "# 4 (IMAGE TO PENCIL SKETCH BY PYTHON)"
   ]
  },
  {
   "cell_type": "markdown",
   "id": "53f78fb3",
   "metadata": {},
   "source": [
    "# NAME: RUBAHA SHAIKH"
   ]
  },
  {
   "cell_type": "markdown",
   "id": "cf59f364",
   "metadata": {},
   "source": [
    "# TASK DESCRIPTION:\n",
    "We need to read the image in RBG format and then convert it to a grayscale image. \n",
    "This will turn an image into a classic black and white photo. \n",
    "Then the next thing to do is invert the grayscale image also called negative image, this will be our inverted grayscale image. \n",
    "Inversion can be used to enhance details. \n",
    "Then we can finally create the pencil sketch by mixing the grayscale image with the inverted blurry image. \n",
    "This can be done by dividing the grayscale image by the inverted blurry image.\n",
    "Since images are just arrays, we can easily do this programmatically using the divide function from the cv2 library in Python"
   ]
  },
  {
   "cell_type": "markdown",
   "id": "04419aa8",
   "metadata": {},
   "source": [
    "# IMPORT CV2 LIBRARY"
   ]
  },
  {
   "cell_type": "code",
   "execution_count": 5,
   "id": "d9a2c32a",
   "metadata": {},
   "outputs": [],
   "source": [
    "import cv2"
   ]
  },
  {
   "cell_type": "markdown",
   "id": "d1365c17",
   "metadata": {},
   "source": [
    "# read image now"
   ]
  },
  {
   "cell_type": "code",
   "execution_count": 11,
   "id": "0838c65f",
   "metadata": {},
   "outputs": [
    {
     "data": {
      "text/plain": [
       "-1"
      ]
     },
     "execution_count": 11,
     "metadata": {},
     "output_type": "execute_result"
    }
   ],
   "source": [
    "image = cv2.imread(\"mountains.webp\")\n",
    "cv2.imshow(\"Mountain\", image)\n",
    "cv2.waitKey(0)"
   ]
  },
  {
   "cell_type": "markdown",
   "id": "2c97f7ea",
   "metadata": {},
   "source": [
    "# we will create a new image by converting the original image to greyscale:"
   ]
  },
  {
   "cell_type": "code",
   "execution_count": 12,
   "id": "365f0a38",
   "metadata": {},
   "outputs": [
    {
     "data": {
      "text/plain": [
       "-1"
      ]
     },
     "execution_count": 12,
     "metadata": {},
     "output_type": "execute_result"
    }
   ],
   "source": [
    "gray_image = cv2.cvtColor(image, cv2.COLOR_BGR2GRAY)\n",
    "cv2.imshow(\"New Mountain picture\", gray_image)\n",
    "cv2.waitKey(0)"
   ]
  },
  {
   "cell_type": "markdown",
   "id": "9a6e736a",
   "metadata": {},
   "source": [
    "# invert the new grayscale image:"
   ]
  },
  {
   "cell_type": "code",
   "execution_count": 13,
   "id": "a5a22946",
   "metadata": {},
   "outputs": [
    {
     "data": {
      "text/plain": [
       "-1"
      ]
     },
     "execution_count": 13,
     "metadata": {},
     "output_type": "execute_result"
    }
   ],
   "source": [
    "inverted_image = 255 - gray_image\n",
    "cv2.imshow(\"Inverted\", inverted_image)\n",
    "cv2.waitKey()"
   ]
  },
  {
   "cell_type": "markdown",
   "id": "5dfd084e",
   "metadata": {},
   "source": [
    "# Using Gaussian Function to blur the image"
   ]
  },
  {
   "cell_type": "code",
   "execution_count": 14,
   "id": "5fc5b938",
   "metadata": {},
   "outputs": [],
   "source": [
    "blurred = cv2.GaussianBlur(inverted_image, (21, 21), 0)"
   ]
  },
  {
   "cell_type": "markdown",
   "id": "303335ef",
   "metadata": {},
   "source": [
    "# Now, Final sketch"
   ]
  },
  {
   "cell_type": "code",
   "execution_count": 15,
   "id": "7c65690a",
   "metadata": {},
   "outputs": [
    {
     "data": {
      "text/plain": [
       "-1"
      ]
     },
     "execution_count": 15,
     "metadata": {},
     "output_type": "execute_result"
    }
   ],
   "source": [
    "inverted_blurred = 255 - blurred\n",
    "pencil_sketch = cv2.divide(gray_image, inverted_blurred, scale=256.0)\n",
    "cv2.imshow(\"Sketch\", pencil_sketch)\n",
    "cv2.waitKey(0)"
   ]
  }
 ],
 "metadata": {
  "kernelspec": {
   "display_name": "Python 3 (ipykernel)",
   "language": "python",
   "name": "python3"
  },
  "language_info": {
   "codemirror_mode": {
    "name": "ipython",
    "version": 3
   },
   "file_extension": ".py",
   "mimetype": "text/x-python",
   "name": "python",
   "nbconvert_exporter": "python",
   "pygments_lexer": "ipython3",
   "version": "3.9.12"
  }
 },
 "nbformat": 4,
 "nbformat_minor": 5
}
