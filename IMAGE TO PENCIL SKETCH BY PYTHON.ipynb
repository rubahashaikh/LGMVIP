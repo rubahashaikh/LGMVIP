{
 "cells": [
  {
   "cell_type": "markdown",
   "id": "8ddd254d",
   "metadata": {},
   "source": [
    "# LETS GROW MORE (LGM)"
   ]
  },
  {
   "cell_type": "markdown",
   "id": "2151c079",
   "metadata": {},
   "source": [
    "# TASK 1 (BEGINNER LEVEL TASK)"
   ]
  },
  {
   "cell_type": "markdown",
   "id": "976d2822",
   "metadata": {},
   "source": [
    "# 4 (IMAGE TO PENCIL SKETCH BY PYTHON)"
   ]
  },
  {
   "cell_type": "markdown",
   "id": "0ccb2fba",
   "metadata": {},
   "source": [
    "# NAME: RUBAHA SHAIKH"
   ]
  },
  {
   "cell_type": "markdown",
   "id": "68fb7c96",
   "metadata": {},
   "source": [
    "# TASK DESCRIPTION:\n",
    "We need to read the image in RBG format and then convert it to a grayscale image. \n",
    "This will turn an image into a classic black and white photo. \n",
    "Then the next thing to do is invert the grayscale image also called negative image, this will be our inverted grayscale image. \n",
    "Inversion can be used to enhance details. \n",
    "Then we can finally create the pencil sketch by mixing the grayscale image with the inverted blurry image. \n",
    "This can be done by dividing the grayscale image by the inverted blurry image.\n",
    "Since images are just arrays, we can easily do this programmatically using the divide function from the cv2 library in Python"
   ]
  },
  {
   "cell_type": "markdown",
   "id": "7a44cc6e",
   "metadata": {},
   "source": [
    "# IMPORT CV2 LIBRARY"
   ]
  },
  {
   "cell_type": "code",
   "execution_count": 1,
   "id": "85327abc",
   "metadata": {},
   "outputs": [],
   "source": [
    "import cv2"
   ]
  },
  {
   "cell_type": "markdown",
   "id": "aba7dc47",
   "metadata": {},
   "source": [
    "# read image now"
   ]
  },
  {
   "cell_type": "code",
   "execution_count": 2,
   "id": "0838c65f",
   "metadata": {},
   "outputs": [
    {
     "data": {
      "text/plain": [
       "-1"
      ]
     },
     "execution_count": 2,
     "metadata": {},
     "output_type": "execute_result"
    }
   ],
   "source": [
    "image = cv2.imread(\"mountains.webp\")\n",
    "cv2.imshow(\"Mountain\", image)\n",
    "cv2.waitKey(0)"
   ]
  },
  {
   "cell_type": "markdown",
   "id": "38b6858e",
   "metadata": {},
   "source": [
    "# we will create a new image by converting the original image to greyscale:"
   ]
  },
  {
   "cell_type": "code",
   "execution_count": 3,
   "id": "365f0a38",
   "metadata": {},
   "outputs": [
    {
     "data": {
      "text/plain": [
       "-1"
      ]
     },
     "execution_count": 3,
     "metadata": {},
     "output_type": "execute_result"
    }
   ],
   "source": [
    "im_gray = cv2.cvtColor(image, cv2.COLOR_BGR2GRAY)\n",
    "cv2.imshow(\"New Mountain picture\", im_gray)\n",
    "cv2.waitKey(0)"
   ]
  },
  {
   "cell_type": "markdown",
   "id": "1817df60",
   "metadata": {},
   "source": [
    "# invert the new grayscale image:"
   ]
  },
  {
   "cell_type": "code",
   "execution_count": 4,
   "id": "a5a22946",
   "metadata": {},
   "outputs": [
    {
     "data": {
      "text/plain": [
       "-1"
      ]
     },
     "execution_count": 4,
     "metadata": {},
     "output_type": "execute_result"
    }
   ],
   "source": [
    "im_invert = 255 - im_gray\n",
    "cv2.imshow(\"Inverted\", im_invert)\n",
    "cv2.waitKey()"
   ]
  },
  {
   "cell_type": "markdown",
   "id": "af392ddb",
   "metadata": {},
   "source": [
    "# Using Gaussian Function to blur the image"
   ]
  },
  {
   "cell_type": "code",
   "execution_count": 5,
   "id": "5fc5b938",
   "metadata": {},
   "outputs": [],
   "source": [
    "blurred = cv2.GaussianBlur(im_invert, (21, 21), 0)"
   ]
  },
  {
   "cell_type": "markdown",
   "id": "0993ed77",
   "metadata": {},
   "source": [
    "# Now, Final sketch"
   ]
  },
  {
   "cell_type": "code",
   "execution_count": 7,
   "id": "aeb56e83",
   "metadata": {},
   "outputs": [
    {
     "data": {
      "text/plain": [
       "-1"
      ]
     },
     "execution_count": 7,
     "metadata": {},
     "output_type": "execute_result"
    }
   ],
   "source": [
    "inverted = 255 - blurred\n",
    "sketch = cv2.divide(im_gray, inverted, scale=256.0)\n",
    "cv2.imshow(\"Sketch\", sketch)\n",
    "cv2.waitKey(0)"
   ]
  }
 ],
 "metadata": {
  "kernelspec": {
   "display_name": "Python 3 (ipykernel)",
   "language": "python",
   "name": "python3"
  },
  "language_info": {
   "codemirror_mode": {
    "name": "ipython",
    "version": 3
   },
   "file_extension": ".py",
   "mimetype": "text/x-python",
   "name": "python",
   "nbconvert_exporter": "python",
   "pygments_lexer": "ipython3",
   "version": "3.9.12"
  }
 },
 "nbformat": 4,
 "nbformat_minor": 5
}
